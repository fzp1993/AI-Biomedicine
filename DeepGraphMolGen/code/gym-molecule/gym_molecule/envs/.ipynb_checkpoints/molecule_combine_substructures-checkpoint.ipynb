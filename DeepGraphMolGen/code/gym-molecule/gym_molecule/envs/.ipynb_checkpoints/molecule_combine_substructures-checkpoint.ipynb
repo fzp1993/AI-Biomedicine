{
 "cells": [
  {
   "cell_type": "code",
   "execution_count": 2,
   "metadata": {},
   "outputs": [],
   "source": [
    "from rdkit import Chem\n",
    "from rdkit.Chem import AllChem\n",
    "from rdkit.Chem.Draw import IPythonConsole\n",
    "from rdkit.Chem.Draw import MolDrawing, DrawingOptions"
   ]
  },
  {
   "cell_type": "code",
   "execution_count": 3,
   "metadata": {},
   "outputs": [],
   "source": [
    "# for visualization of molecules including atom numbers\n",
    "def mol_with_atom_index( mol ):\n",
    "    atoms = mol.GetNumAtoms()\n",
    "    for idx in range( atoms ):\n",
    "        mol.GetAtomWithIdx( idx ).SetProp( 'molAtomMapNumber', str( mol.GetAtomWithIdx( idx ).GetIdx() ) )\n",
    "    return mol"
   ]
  },
  {
   "cell_type": "code",
   "execution_count": 4,
   "metadata": {},
   "outputs": [],
   "source": [
    "def add_bond_between_substructures(mol_1, mol_2, begin_atom_idx,\n",
    "                                   end_atom_idx, bond_type):\n",
    "    \"\"\"\n",
    "    Given two rdkit mol objects, begin and end atom indices of the new bond, the bond type, returns a new mol object\n",
    "    that has the corresponding bond added. Note that the atom indices are based on the combined mol object, see below\n",
    "    MUST PERFORM VALENCY CHECK AFTERWARDS\n",
    "    :param mol_1:\n",
    "    :param mol_2:\n",
    "    :param begin_atom_idx:\n",
    "    :param end_atom_idx:\n",
    "    :param bond_type:\n",
    "    :return: rdkit mol object\n",
    "    \"\"\"\n",
    "    combined = Chem.CombineMols(mol_1, mol_2)\n",
    "    rw_combined = Chem.RWMol(combined)\n",
    "    \n",
    "    # check that we have an atom index from each substructure\n",
    "    grouped_atom_indices_combined = Chem.GetMolFrags(rw_combined)\n",
    "    substructure_1_indices, substructure_2_indices = grouped_atom_indices_combined\n",
    "    if begin_atom_idx in substructure_1_indices:\n",
    "        if not end_atom_idx in substructure_2_indices:\n",
    "            raise ValueError('Invalid atom indices')\n",
    "    elif end_atom_idx in substructure_1_indices:\n",
    "        if not begin_atom_idx in substructure_2_indices:\n",
    "            raise ValueError('Invalid atom indices')\n",
    "    else:\n",
    "        raise ValueError('Invalid atom indices')\n",
    "        \n",
    "    rw_combined.AddBond(begin_atom_idx, end_atom_idx, bond_type)\n",
    "\n",
    "    return rw_combined.GetMol()"
   ]
  },
  {
   "cell_type": "code",
   "execution_count": 31,
   "metadata": {},
   "outputs": [
    {
     "data": {
      "text/plain": [
       "True"
      ]
     },
     "execution_count": 31,
     "metadata": {},
     "output_type": "execute_result"
    }
   ],
   "source": [
    "from rdkit import DataStructs\n",
    "from rdkit.Chem.Fingerprints import FingerprintMols\n",
    "mol_1 = Chem.MolFromSmiles('CCC(=O)C1C(C2=CC=C(I)C(Cl)=C2)CC2CCC1N2C')\n",
    "mol_2 = Chem.MolFromSmiles('CCC(=O)C1C2CCC(CC1c1ccc(I)c(Cl)c1)N2C')\n",
    "# mol_2 = Chem.MolFromSmiles('CCC(=O)C1C(C2=CC=C(I)C(Cl)=C2)CC2CCC1N2C')\n",
    "f1 = FingerprintMols.FingerprintMol(mol_1)\n",
    "f2 = FingerprintMols.FingerprintMol(mol_2)\n",
    "# mol_1.GetBondBetweenAtoms(1,2).GetIsAromatic()\n",
    "f1==f2\n"
   ]
  },
  {
   "cell_type": "code",
   "execution_count": 29,
   "metadata": {
    "scrolled": true
   },
   "outputs": [
    {
     "data": {
      "image/png": "[encoded data removed]",
      "text/plain": [
       "<rdkit.Chem.rdchem.Mol at 0x1a08fc86300>"
      ]
     },
     "execution_count": 29,
     "metadata": {},
     "output_type": "execute_result"
    }
   ],
   "source": [
    "# mol 1\n",
    "mol_with_atom_index(mol_1)\n"
   ]
  },
  {
   "cell_type": "code",
   "execution_count": 30,
   "metadata": {},
   "outputs": [
    {
     "data": {
      "image/png": "[encoded data removed]",
      "text/plain": [
       "<rdkit.Chem.rdchem.Mol at 0x1a08fc860d0>"
      ]
     },
     "execution_count": 30,
     "metadata": {},
     "output_type": "execute_result"
    }
   ],
   "source": [
    "# mol 2\n",
    "mol_with_atom_index(mol_2)"
   ]
  },
  {
   "cell_type": "code",
   "execution_count": 39,
   "metadata": {},
   "outputs": [
    {
     "data": {
      "image/png": "[encoded data removed]",
      "text/plain": [
       "<rdkit.Chem.rdchem.Mol at 0x2057f6bf440>"
      ]
     },
     "execution_count": 39,
     "metadata": {},
     "output_type": "execute_result"
    }
   ],
   "source": [
    "# note that only mol_1 keeps its original atom numbers in the combined mol object. \n",
    "# mol_2 has its atom numbers reindexed by: old atom number + mol_1.GetNumAtoms()\n",
    "combined = Chem.CombineMols(mol_1, mol_2)\n",
    "mol_with_atom_index(combined)"
   ]
  },
  {
   "cell_type": "code",
   "execution_count": 40,
   "metadata": {},
   "outputs": [
    {
     "ename": "ValueError",
     "evalue": "Invalid atom indices",
     "output_type": "error",
     "traceback": [
      "\u001b[1;31m---------------------------------------------------------------------------\u001b[0m",
      "\u001b[1;31mValueError\u001b[0m                                Traceback (most recent call last)",
      "\u001b[1;32m<ipython-input-40-87e8e3ed60f8>\u001b[0m in \u001b[0;36m<module>\u001b[1;34m\u001b[0m\n\u001b[0;32m      3\u001b[0m \u001b[0mend_atom_idx\u001b[0m \u001b[1;33m=\u001b[0m \u001b[1;36m10\u001b[0m\u001b[1;33m\u001b[0m\u001b[1;33m\u001b[0m\u001b[0m\n\u001b[0;32m      4\u001b[0m \u001b[0mbond_type\u001b[0m \u001b[1;33m=\u001b[0m \u001b[0mChem\u001b[0m\u001b[1;33m.\u001b[0m\u001b[0mrdchem\u001b[0m\u001b[1;33m.\u001b[0m\u001b[0mBondType\u001b[0m\u001b[1;33m.\u001b[0m\u001b[0mSINGLE\u001b[0m\u001b[1;33m\u001b[0m\u001b[1;33m\u001b[0m\u001b[0m\n\u001b[1;32m----> 5\u001b[1;33m \u001b[0mm\u001b[0m \u001b[1;33m=\u001b[0m \u001b[0madd_bond_between_substructures\u001b[0m\u001b[1;33m(\u001b[0m\u001b[0mmol_1\u001b[0m\u001b[1;33m,\u001b[0m \u001b[0mmol_2\u001b[0m\u001b[1;33m,\u001b[0m \u001b[0mbegin_atom_idx\u001b[0m\u001b[1;33m,\u001b[0m \u001b[0mend_atom_idx\u001b[0m\u001b[1;33m,\u001b[0m \u001b[0mbond_type\u001b[0m\u001b[1;33m)\u001b[0m\u001b[1;33m\u001b[0m\u001b[1;33m\u001b[0m\u001b[0m\n\u001b[0m\u001b[0;32m      6\u001b[0m \u001b[0mChem\u001b[0m\u001b[1;33m.\u001b[0m\u001b[0mSanitizeMol\u001b[0m\u001b[1;33m(\u001b[0m\u001b[0mm\u001b[0m\u001b[1;33m,\u001b[0m\u001b[0msanitizeOps\u001b[0m\u001b[1;33m=\u001b[0m\u001b[0mChem\u001b[0m\u001b[1;33m.\u001b[0m\u001b[0mSanitizeFlags\u001b[0m\u001b[1;33m.\u001b[0m\u001b[0mSANITIZE_PROPERTIES\u001b[0m\u001b[1;33m)\u001b[0m  \u001b[1;31m# check valency\u001b[0m\u001b[1;33m\u001b[0m\u001b[1;33m\u001b[0m\u001b[0m\n\u001b[0;32m      7\u001b[0m \u001b[0mm\u001b[0m\u001b[1;33m\u001b[0m\u001b[1;33m\u001b[0m\u001b[0m\n",
      "\u001b[1;32m<ipython-input-3-9e6a028decab>\u001b[0m in \u001b[0;36madd_bond_between_substructures\u001b[1;34m(mol_1, mol_2, begin_atom_idx, end_atom_idx, bond_type)\u001b[0m\n\u001b[0;32m     20\u001b[0m     \u001b[1;32mif\u001b[0m \u001b[0mbegin_atom_idx\u001b[0m \u001b[1;32min\u001b[0m \u001b[0msubstructure_1_indices\u001b[0m\u001b[1;33m:\u001b[0m\u001b[1;33m\u001b[0m\u001b[1;33m\u001b[0m\u001b[0m\n\u001b[0;32m     21\u001b[0m         \u001b[1;32mif\u001b[0m \u001b[1;32mnot\u001b[0m \u001b[0mend_atom_idx\u001b[0m \u001b[1;32min\u001b[0m \u001b[0msubstructure_2_indices\u001b[0m\u001b[1;33m:\u001b[0m\u001b[1;33m\u001b[0m\u001b[1;33m\u001b[0m\u001b[0m\n\u001b[1;32m---> 22\u001b[1;33m             \u001b[1;32mraise\u001b[0m \u001b[0mValueError\u001b[0m\u001b[1;33m(\u001b[0m\u001b[1;34m'Invalid atom indices'\u001b[0m\u001b[1;33m)\u001b[0m\u001b[1;33m\u001b[0m\u001b[1;33m\u001b[0m\u001b[0m\n\u001b[0m\u001b[0;32m     23\u001b[0m     \u001b[1;32melif\u001b[0m \u001b[0mend_atom_idx\u001b[0m \u001b[1;32min\u001b[0m \u001b[0msubstructure_1_indices\u001b[0m\u001b[1;33m:\u001b[0m\u001b[1;33m\u001b[0m\u001b[1;33m\u001b[0m\u001b[0m\n\u001b[0;32m     24\u001b[0m         \u001b[1;32mif\u001b[0m \u001b[1;32mnot\u001b[0m \u001b[0mbegin_atom_idx\u001b[0m \u001b[1;32min\u001b[0m \u001b[0msubstructure_2_indices\u001b[0m\u001b[1;33m:\u001b[0m\u001b[1;33m\u001b[0m\u001b[1;33m\u001b[0m\u001b[0m\n",
      "\u001b[1;31mValueError\u001b[0m: Invalid atom indices"
     ]
    }
   ],
   "source": [
    "# example of successful bond addition\n",
    "begin_atom_idx = 5\n",
    "end_atom_idx = 10\n",
    "bond_type = Chem.rdchem.BondType.SINGLE\n",
    "m = add_bond_between_substructures(mol_1, mol_2, begin_atom_idx, end_atom_idx, bond_type)\n",
    "Chem.SanitizeMol(m,sanitizeOps=Chem.SanitizeFlags.SANITIZE_PROPERTIES)  # check valency\n",
    "m"
   ]
  },
  {
   "cell_type": "code",
   "execution_count": 41,
   "metadata": {},
   "outputs": [
    {
     "ename": "ValueError",
     "evalue": "Invalid atom indices",
     "output_type": "error",
     "traceback": [
      "\u001b[1;31m---------------------------------------------------------------------------\u001b[0m",
      "\u001b[1;31mValueError\u001b[0m                                Traceback (most recent call last)",
      "\u001b[1;32m<ipython-input-41-16c01ba5b245>\u001b[0m in \u001b[0;36m<module>\u001b[1;34m\u001b[0m\n\u001b[0;32m      3\u001b[0m \u001b[0mend_atom_idx\u001b[0m \u001b[1;33m=\u001b[0m \u001b[1;36m10\u001b[0m\u001b[1;33m\u001b[0m\u001b[1;33m\u001b[0m\u001b[0m\n\u001b[0;32m      4\u001b[0m \u001b[0mbond_type\u001b[0m \u001b[1;33m=\u001b[0m \u001b[0mChem\u001b[0m\u001b[1;33m.\u001b[0m\u001b[0mrdchem\u001b[0m\u001b[1;33m.\u001b[0m\u001b[0mBondType\u001b[0m\u001b[1;33m.\u001b[0m\u001b[0mTRIPLE\u001b[0m\u001b[1;33m\u001b[0m\u001b[1;33m\u001b[0m\u001b[0m\n\u001b[1;32m----> 5\u001b[1;33m \u001b[0mm\u001b[0m \u001b[1;33m=\u001b[0m \u001b[0madd_bond_between_substructures\u001b[0m\u001b[1;33m(\u001b[0m\u001b[0mmol_1\u001b[0m\u001b[1;33m,\u001b[0m \u001b[0mmol_2\u001b[0m\u001b[1;33m,\u001b[0m \u001b[0mbegin_atom_idx\u001b[0m\u001b[1;33m,\u001b[0m \u001b[0mend_atom_idx\u001b[0m\u001b[1;33m,\u001b[0m \u001b[0mbond_type\u001b[0m\u001b[1;33m)\u001b[0m\u001b[1;33m\u001b[0m\u001b[1;33m\u001b[0m\u001b[0m\n\u001b[0m\u001b[0;32m      6\u001b[0m \u001b[0mm\u001b[0m\u001b[1;33m\u001b[0m\u001b[1;33m\u001b[0m\u001b[0m\n",
      "\u001b[1;32m<ipython-input-3-9e6a028decab>\u001b[0m in \u001b[0;36madd_bond_between_substructures\u001b[1;34m(mol_1, mol_2, begin_atom_idx, end_atom_idx, bond_type)\u001b[0m\n\u001b[0;32m     20\u001b[0m     \u001b[1;32mif\u001b[0m \u001b[0mbegin_atom_idx\u001b[0m \u001b[1;32min\u001b[0m \u001b[0msubstructure_1_indices\u001b[0m\u001b[1;33m:\u001b[0m\u001b[1;33m\u001b[0m\u001b[1;33m\u001b[0m\u001b[0m\n\u001b[0;32m     21\u001b[0m         \u001b[1;32mif\u001b[0m \u001b[1;32mnot\u001b[0m \u001b[0mend_atom_idx\u001b[0m \u001b[1;32min\u001b[0m \u001b[0msubstructure_2_indices\u001b[0m\u001b[1;33m:\u001b[0m\u001b[1;33m\u001b[0m\u001b[1;33m\u001b[0m\u001b[0m\n\u001b[1;32m---> 22\u001b[1;33m             \u001b[1;32mraise\u001b[0m \u001b[0mValueError\u001b[0m\u001b[1;33m(\u001b[0m\u001b[1;34m'Invalid atom indices'\u001b[0m\u001b[1;33m)\u001b[0m\u001b[1;33m\u001b[0m\u001b[1;33m\u001b[0m\u001b[0m\n\u001b[0m\u001b[0;32m     23\u001b[0m     \u001b[1;32melif\u001b[0m \u001b[0mend_atom_idx\u001b[0m \u001b[1;32min\u001b[0m \u001b[0msubstructure_1_indices\u001b[0m\u001b[1;33m:\u001b[0m\u001b[1;33m\u001b[0m\u001b[1;33m\u001b[0m\u001b[0m\n\u001b[0;32m     24\u001b[0m         \u001b[1;32mif\u001b[0m \u001b[1;32mnot\u001b[0m \u001b[0mbegin_atom_idx\u001b[0m \u001b[1;32min\u001b[0m \u001b[0msubstructure_2_indices\u001b[0m\u001b[1;33m:\u001b[0m\u001b[1;33m\u001b[0m\u001b[1;33m\u001b[0m\u001b[0m\n",
      "\u001b[1;31mValueError\u001b[0m: Invalid atom indices"
     ]
    }
   ],
   "source": [
    "# importance of performing valency checks afterwards. This molecule is invalid due to 6 bonds at C1\n",
    "begin_atom_idx = 1\n",
    "end_atom_idx = 10\n",
    "bond_type = Chem.rdchem.BondType.TRIPLE\n",
    "m = add_bond_between_substructures(mol_1, mol_2, begin_atom_idx, end_atom_idx, bond_type)\n",
    "m"
   ]
  },
  {
   "cell_type": "code",
   "execution_count": null,
   "metadata": {},
   "outputs": [],
   "source": []
  }
 ],
 "metadata": {
  "kernelspec": {
   "display_name": "Python 3",
   "language": "python",
   "name": "python3"
  },
  "language_info": {
   "codemirror_mode": {
    "name": "ipython",
    "version": 3
   },
   "file_extension": ".py",
   "mimetype": "text/x-python",
   "name": "python",
   "nbconvert_exporter": "python",
   "pygments_lexer": "ipython3",
   "version": "3.6.8"
  },
  "pycharm": {
   "stem_cell": {
    "cell_type": "raw",
    "metadata": {
     "collapsed": false
    },
    "source": []
   }
  }
 },
 "nbformat": 4,
 "nbformat_minor": 2
}
